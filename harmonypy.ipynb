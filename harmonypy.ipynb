{
 "cells": [
  {
   "cell_type": "code",
   "execution_count": null,
   "metadata": {},
   "outputs": [],
   "source": [
    "import scanpy as sc\n",
    "import math\n",
    "import os\n",
    "import anndata\n",
    "from matplotlib import pyplot as plt\n",
    "import pandas as pd\n",
    "import numpy as np\n",
    "import harmonypy as hm\n",
    "sc.settings.verbosity = 3             # verbosity: errors (0), warnings (1), info (2), hints (3)\n",
    "sc.logging.print_header()\n",
    "sc.settings.set_figure_params(dpi=120, dpi_save=150, facecolor='white', color_map='Blues')"
   ]
  },
  {
   "cell_type": "code",
   "execution_count": null,
   "metadata": {},
   "outputs": [],
   "source": [
    "full_path = 'C:/Users/julia/Project'\n",
    "BL_A = sc.read_h5ad(os.path.join(full_path+'/TEST/BL_A/AnnData_storage/BL_A.h5ad'))\n",
    "BL_C = sc.read_h5ad(os.path.join(full_path+'/TEST/BL_C/AnnData_storage/BL_C.h5ad'))\n",
    "BL_A.obs['batch'] = 'BL_A'\n",
    "BL_C.obs['batch'] = 'BL_C'\n",
    "concat = anndata.concat([BL_C, BL_A], index_unique='_', axis=0, join='inner', \n",
    "                              merge=None, uns_merge=None, label=None, keys=None,\n",
    "                                fill_value=None, pairwise=None)"
   ]
  },
  {
   "cell_type": "code",
   "execution_count": null,
   "metadata": {},
   "outputs": [],
   "source": [
    "data_mat = concat.obsm['X_pca']\n",
    "meta_data = concat.obs\n",
    "vars_use = ['batch']\n",
    "ho = hm.run_harmony(data_mat, meta_data, vars_use,\n",
    "                             theta=None, lamb=None, sigma=0.1,\n",
    "                             nclust=None, tau=0, block_size=0.5,\n",
    "                             max_iter_harmony=10, max_iter_kmeans=20,\n",
    "                             epsilon_cluster=1e-5, epsilon_harmony=1e-4,\n",
    "                             plot_convergence=True, verbose=True, reference_values=None,\n",
    "                             cluster_prior=None, random_state=0)\n",
    "adjusted_pcs = pd.DataFrame(ho.Z_corr).T\n",
    "concat.obsm['X_pca'] = adjusted_pcs.values\n",
    "sc.pp.neighbors(concat, n_pcs=20)\n",
    "sc.tl.leiden(concat, resolution=0.5)\n",
    "sc.tl.umap(concat)"
   ]
  },
  {
   "cell_type": "code",
   "execution_count": null,
   "metadata": {},
   "outputs": [],
   "source": [
    "fig, axs = plt.subplots(2, 2, figsize=(10,8),constrained_layout=True)\n",
    "Cocult = concat[concat.obs['batch'] == 'BL_C']\n",
    "Sample = concat[concat.obs['batch'] == 'BL_A']\n",
    "sc.pl.umap(concat, color=\"batch\", title='samples', ax=axs[0,0], show=False)\n",
    "sc.pl.umap(concat, color=\"leiden\", title=\"Leidenalg UMAP\", ax=axs[0,1], show=False)\n",
    "sc.pl.umap(Sample, color=\"leiden\", title=\"BL_A sample only\", ax=axs[1,0], show=False)\n",
    "sc.pl.umap(Cocult, color=\"leiden\", title=\"BL_C sample only\", ax=axs[1,1], show=False)\n",
    "        "
   ]
  },
  {
   "cell_type": "code",
   "execution_count": null,
   "metadata": {},
   "outputs": [],
   "source": [
    "adata_DE = concat.raw.to_adata()\n",
    "adata_DE"
   ]
  },
  {
   "cell_type": "code",
   "execution_count": null,
   "metadata": {},
   "outputs": [],
   "source": [
    "sc.tl.rank_genes_groups(adata_DE, 'leiden', method='wilcoxon', corr_method='bonferroni', key='wilcoxon', pts=True)\n",
    "sc.tl.filter_rank_genes_groups(adata_DE, groupby='leiden', min_in_group_fraction=0.1, min_fold_change=1)\n",
    "#sc.pl.rank_genes_groups(adata_DE,sharey=False)"
   ]
  },
  {
   "cell_type": "code",
   "execution_count": null,
   "metadata": {},
   "outputs": [],
   "source": [
    "adata_DE"
   ]
  },
  {
   "cell_type": "code",
   "execution_count": null,
   "metadata": {},
   "outputs": [],
   "source": [
    "adata=adata_DE"
   ]
  },
  {
   "attachments": {},
   "cell_type": "markdown",
   "metadata": {},
   "source": [
    "Make this user friendly --> genes are hardcoded for now"
   ]
  },
  {
   "cell_type": "code",
   "execution_count": null,
   "metadata": {},
   "outputs": [],
   "source": [
    "goede_anndatas = []\n",
    "marker_genes = ['VIM', 'FABP7', 'S100B']\n",
    "for cluster in np.unique(adata.obs['leiden']):\n",
    "    subcluster = adata[adata.obs['leiden']==cluster]\n",
    "    justmarkers = subcluster[:, marker_genes]\n",
    "    df = justmarkers.to_df()\n",
    "    pos = df[(df['VIM'] > 0) & (df['FABP7'] > 0) & (df['S100B'] > 0)]\n",
    "    pos.to_csv(full_path+f'/dfjes/{cluster}positive.tsv', sep='\\t', encoding='utf-8')\n",
    "    df.to_csv(full_path+f'/dfjes/{cluster}_rank_genes_df.tsv', sep='\\t', encoding='utf-8')\n",
    "    som = int((len(pos)/len(df)*100))\n",
    "    if som >= 20:\n",
    "        print('goed!')\n",
    "        goede_anndatas.append(subcluster)\n",
    "    else:\n",
    "        print('niet zo goed!')\n",
    "    print(len(pos), len(df), som)"
   ]
  },
  {
   "cell_type": "code",
   "execution_count": null,
   "metadata": {},
   "outputs": [],
   "source": [
    "concat2 = anndata.concat(goede_anndatas, index_unique='_', axis=0, join='inner', \n",
    "                              merge=None, uns_merge=None, label=None, keys=None,\n",
    "                                fill_value=None, pairwise=None)\n",
    "concat2"
   ]
  },
  {
   "cell_type": "code",
   "execution_count": null,
   "metadata": {},
   "outputs": [],
   "source": [
    "# sc.pp.filter_cells(concat2, min_genes=700)\n",
    "# sc.pp.filter_genes(concat2, min_cells=3)\n",
    "# concat2.var['mt'] = concat2.var_names.str.startswith('MT-')  # annotate the group of mitochondrial genes as 'mt'\n",
    "# sc.pp.calculate_qc_metrics(concat2, qc_vars=['mt'], percent_top=None, log1p=False, inplace=True)\n",
    "# concat2 = concat2[concat2.obs.pct_counts_mt < 20, :]\n",
    "# sc.pp.normalize_total(concat2, target_sum=1e4) # still included highly expressed data for now\n",
    "# sc.pp.log1p(concat2)\n",
    "# sc.pp.highly_variable_genes(concat2, flavor='cell_ranger', subset=False) # EDIT: added this line for testing\n",
    "# concat2 = concat2[:, concat2.var.highly_variable] # Actually do the slicing\n",
    "# sc.pp.regress_out(concat2, ['total_counts', 'pct_counts_mt']) # regress out sequencing depth and % MT-RNA\n",
    "# sc.pp.scale(concat2)\n",
    "# sc.tl.pca(concat2, n_comps=50)"
   ]
  },
  {
   "cell_type": "code",
   "execution_count": null,
   "metadata": {},
   "outputs": [],
   "source": [
    "data_mat = concat2.obsm['X_pca']\n",
    "meta_data = concat2.obs\n",
    "vars_use = ['batch']\n",
    "ho = hm.run_harmony(data_mat, meta_data, vars_use,\n",
    "                             theta=None, lamb=None, sigma=0.1,\n",
    "                             nclust=None, tau=0, block_size=0.5,\n",
    "                             max_iter_harmony=10, max_iter_kmeans=20,\n",
    "                             epsilon_cluster=1e-5, epsilon_harmony=1e-4,\n",
    "                             plot_convergence=True, verbose=True, reference_values=None,\n",
    "                             cluster_prior=None, random_state=0)\n",
    "adjusted_pcs = pd.DataFrame(ho.Z_corr).T\n",
    "concat2.obsm['X_pca'] = adjusted_pcs.values\n",
    "sc.pp.neighbors(concat2, n_pcs=20)\n",
    "sc.tl.leiden(concat2, resolution=0.5)\n",
    "sc.tl.umap(concat2)"
   ]
  },
  {
   "attachments": {},
   "cell_type": "markdown",
   "metadata": {},
   "source": [
    "This looks really bad"
   ]
  },
  {
   "cell_type": "code",
   "execution_count": null,
   "metadata": {},
   "outputs": [],
   "source": [
    "fig, axs = plt.subplots(2, 2, figsize=(10,8),constrained_layout=True)\n",
    "Cocult = concat2[concat2.obs['batch'] == 'BL_C']\n",
    "Sample = concat2[concat2.obs['batch'] == 'BL_A']\n",
    "sc.pl.umap(concat2, color=\"batch\", title='samples', ax=axs[0,0], show=False)\n",
    "sc.pl.umap(concat2, color=\"leiden\", title=\"Leidenalg UMAP\", ax=axs[0,1], show=False)\n",
    "sc.pl.umap(Sample, color=\"leiden\", title=\"BL_A sample only\", ax=axs[1,0], show=False)\n",
    "sc.pl.umap(Cocult, color=\"leiden\", title=\"BL_C sample only\", ax=axs[1,1], show=False)"
   ]
  },
  {
   "cell_type": "code",
   "execution_count": null,
   "metadata": {},
   "outputs": [],
   "source": []
  },
  {
   "cell_type": "code",
   "execution_count": null,
   "metadata": {},
   "outputs": [],
   "source": []
  },
  {
   "cell_type": "code",
   "execution_count": null,
   "metadata": {},
   "outputs": [],
   "source": [
    "# clusteradatas = []\n",
    "# teller = 0\n",
    "# data = {}\n",
    "# for cluster_label in np.unique(adata_DE.obs['leiden']):\n",
    "#     cluster_adata = adata_DE[adata_DE.obs['leiden'] == cluster_label]\n",
    "#     lfc_values = cluster_adata.uns['rank_genes_groups']['logfoldchanges']\n",
    "#     names = cluster_adata.uns['rank_genes_groups']['names']\n",
    "#     barcode_list = []\n",
    "#     for barcode in cluster_adata.obs_names:\n",
    "#         barcode_list.append(barcode)\n",
    "#     data = {'names' : names.tolist(),\n",
    "#             'lfc_values' : lfc_values.tolist()}\n",
    "#     print(data)\n",
    "    #print(pd.DataFrame(data, index=list(range(len(names)))))\n",
    "    #df.to_csv(full_path+f'/dfjes/{cluster_label}_rank_genes_df.tsv', sep='\\t', encoding='utf-8')\n",
    "    # for cell_index, lfc in zip(cluster_adata.obs_names, lfc_values):\n",
    "    #     # for all cells\n",
    "    #     print(f\"Cell {cell_index}: LFC = {lfc}\")\n"
   ]
  },
  {
   "cell_type": "code",
   "execution_count": null,
   "metadata": {},
   "outputs": [],
   "source": [
    "# adata = adata_DE\n",
    "# # pd.DataFrame(adata.uns['rank_genes_groups']['names'])\n",
    "# result = adata.uns['rank_genes_groups']\n",
    "# groups = result['names'].dtype.names\n",
    "# pd.DataFrame(\n",
    "#     {group + '_' + key[:1]: result[key][group]\n",
    "#     for group in groups for key in ['names', 'logfoldchanges', 'pts']}).head(5)"
   ]
  },
  {
   "cell_type": "code",
   "execution_count": null,
   "metadata": {},
   "outputs": [],
   "source": [
    "    # # clusteradatas.append(cluster_adata)\n",
    "    # # cluster_adata = cluster_adata[cluster_adata[: , 'VIM'].X > 0, :]\n",
    "    # # cluster_adata = cluster_adata[cluster_adata[: , 'S100B'].X > 0, :]\n",
    "    # # cluster_adata = cluster_adata[cluster_adata[: , 'GFAP'].X > 0, :]\n",
    "    # # teller+=cluster_adata.n_obs\n",
    "    # result = cluster_adata.uns['rank_genes_groups']['logfoldchanges'][cluster_label]\n",
    "    # cluster_adata.layers['result'] = result\n",
    "    # # groups = result['names'].dtype.names\n",
    "    # # a = pd.DataFrame(\n",
    "    # # {group + '_' + key[:1]: result[key][group]\n",
    "    # # for group in groups for key in ['names', 'logfoldchanges', 'pts']})\n",
    "    # #a.to_csv(full_path+f'/dfjes/{cluster_label}_rank_genes_df.tsv', sep='\\t', encoding='utf-8')"
   ]
  },
  {
   "attachments": {},
   "cell_type": "markdown",
   "metadata": {},
   "source": []
  }
 ],
 "metadata": {
  "kernelspec": {
   "display_name": "project-VjJne3mB",
   "language": "python",
   "name": "python3"
  },
  "language_info": {
   "codemirror_mode": {
    "name": "ipython",
    "version": 3
   },
   "file_extension": ".py",
   "mimetype": "text/x-python",
   "name": "python",
   "nbconvert_exporter": "python",
   "pygments_lexer": "ipython3",
   "version": "3.10.9"
  },
  "orig_nbformat": 4
 },
 "nbformat": 4,
 "nbformat_minor": 2
}
