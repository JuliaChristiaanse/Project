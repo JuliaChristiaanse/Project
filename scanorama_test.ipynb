{
 "cells": [
  {
   "cell_type": "code",
   "execution_count": null,
   "metadata": {},
   "outputs": [],
   "source": [
    "import scanpy as sc\n",
    "import scanorama\n",
    "import anndata\n",
    "import os\n",
    "import pandas as pd\n",
    "from matplotlib import pyplot as plt\n",
    "import numpy as np"
   ]
  },
  {
   "cell_type": "code",
   "execution_count": null,
   "metadata": {},
   "outputs": [],
   "source": [
    "sc.settings.verbosity = 3             # verbosity: errors (0), warnings (1), info (2), hints (3)\n",
    "sc.logging.print_header()\n",
    "sc.settings.set_figure_params(dpi=120, dpi_save=150, facecolor='white', color_map='tab20b')"
   ]
  },
  {
   "cell_type": "code",
   "execution_count": null,
   "metadata": {},
   "outputs": [],
   "source": [
    "OUTPUT_PATH = \"C:/Users/julia/Project/scanorama_output\""
   ]
  },
  {
   "attachments": {},
   "cell_type": "markdown",
   "metadata": {},
   "source": [
    "### SIMPLE integration process using sc.external.pp.scanorama_integrate two integrate the two samples ###"
   ]
  },
  {
   "attachments": {},
   "cell_type": "markdown",
   "metadata": {},
   "source": [
    "load in anndata objects, filtering, pp, hvg, regressing & scaling have been performed. They were frozen right after PCA performance.\n",
    "Results stored in h5ad file, now loaded in:"
   ]
  },
  {
   "cell_type": "code",
   "execution_count": null,
   "metadata": {},
   "outputs": [],
   "source": [
    "anndata_BLN = sc.read_h5ad(\"C:/Users/julia/Project/ipynb_output/BL_N/AnnData_storage/BL_N.h5ad\")\n",
    "anndata_BLC = sc.read_h5ad(\"C:/Users/julia/Project/ipynb_output/BL_C/AnnData_storage/BL_C.h5ad\")\n",
    "anndata_BLA = sc.read_h5ad(\"C:/Users/julia/Project/ipynb_output/BL_A/AnnData_storage/BL_A.h5ad\")"
   ]
  },
  {
   "cell_type": "code",
   "execution_count": null,
   "metadata": {},
   "outputs": [],
   "source": [
    "print('BL_N: ', anndata_BLN.shape)\n",
    "print('BL_C: ', anndata_BLC.shape)\n",
    "print('BL_A: ', anndata_BLA.shape)"
   ]
  },
  {
   "attachments": {},
   "cell_type": "markdown",
   "metadata": {},
   "source": [
    "make the obs 'batch' that is a dramatic overrepresentation of the sample name, because otherwise scanorama does not work :("
   ]
  },
  {
   "cell_type": "code",
   "execution_count": null,
   "metadata": {},
   "outputs": [],
   "source": [
    "anndata_BLA.obs['batch'] = 'BL_A'\n",
    "anndata_BLC.obs['batch'] = 'BL_C'\n",
    "anndata_BLN.obs['batch'] = 'BL_N'"
   ]
  },
  {
   "cell_type": "code",
   "execution_count": null,
   "metadata": {},
   "outputs": [],
   "source": [
    "print('BL_N\\n', anndata_BLN, '\\nBL_C\\n', anndata_BLC, '\\nBL_A\\n', anndata_BLA)"
   ]
  },
  {
   "attachments": {},
   "cell_type": "markdown",
   "metadata": {},
   "source": [
    "sc.external.pp.scanorama() does not directly accept a list of AnnData objects, you need to concatinate the objects firts, then yeet them in the function, and seperate them by key (batch in this case)"
   ]
  },
  {
   "cell_type": "code",
   "execution_count": null,
   "metadata": {},
   "outputs": [],
   "source": [
    "combi = anndata.concat([anndata_BLC, anndata_BLA], index_unique=\"_\")"
   ]
  },
  {
   "attachments": {},
   "cell_type": "markdown",
   "metadata": {},
   "source": [
    "Run Scanorma, the key 'batch' simply has the sample name stored."
   ]
  },
  {
   "cell_type": "code",
   "execution_count": null,
   "metadata": {},
   "outputs": [],
   "source": [
    "# default settings:\n",
    "sc.external.pp.scanorama_integrate(combi, key='batch', basis='X_pca', adjusted_basis='X_scanorama', knn=5, sigma=15, approx=False, alpha=0.1, batch_size=5000)\n",
    "# sc.external.pp.scanorama_integrate(combi, key='batch')"
   ]
  },
  {
   "cell_type": "code",
   "execution_count": null,
   "metadata": {},
   "outputs": [],
   "source": [
    "combi"
   ]
  },
  {
   "cell_type": "code",
   "execution_count": null,
   "metadata": {},
   "outputs": [],
   "source": [
    "adjusted_pcs = combi.obsm['X_scanorama']\n",
    "combi.obsm['X_pca']=adjusted_pcs"
   ]
  },
  {
   "cell_type": "code",
   "execution_count": null,
   "metadata": {},
   "outputs": [],
   "source": [
    "sc.pp.neighbors(combi)\n",
    "sc.tl.leiden(combi)\n",
    "sc.tl.umap(combi)"
   ]
  },
  {
   "cell_type": "code",
   "execution_count": null,
   "metadata": {},
   "outputs": [],
   "source": [
    "sc.pl.umap(combi, color='batch', palette='tab20c',\n",
    "             color_map='magma', title='BL A & BL C integrated UMAP',\n",
    "             return_fig=False, show=False)"
   ]
  },
  {
   "attachments": {},
   "cell_type": "markdown",
   "metadata": {},
   "source": [
    "--------------------------------------------------------------------------------------------------------------------"
   ]
  },
  {
   "attachments": {},
   "cell_type": "markdown",
   "metadata": {},
   "source": [
    "Use Scanorama directly"
   ]
  },
  {
   "cell_type": "code",
   "execution_count": null,
   "metadata": {},
   "outputs": [],
   "source": [
    "anndata_BLN = sc.read_h5ad(\"C:/Users/julia/Project/ipynb_output/BL_N/AnnData_storage/BL_N.h5ad\")\n",
    "anndata_BLC = sc.read_h5ad(\"C:/Users/julia/Project/ipynb_output/BL_C/AnnData_storage/BL_C.h5ad\")\n",
    "anndata_BLA = sc.read_h5ad(\"C:/Users/julia/Project/ipynb_output/BL_A/AnnData_storage/BL_A.h5ad\")"
   ]
  },
  {
   "cell_type": "code",
   "execution_count": null,
   "metadata": {},
   "outputs": [],
   "source": [
    "anndata_BLA.obs['batch'] = 'BL_A'\n",
    "anndata_BLC.obs['batch'] = 'BL_C'\n",
    "anndata_BLN.obs['batch'] = 'BL_N'"
   ]
  },
  {
   "attachments": {},
   "cell_type": "markdown",
   "metadata": {},
   "source": [
    "Note: HVG found that both sets have in common are the same as the concatinated dataset I made in the code above"
   ]
  },
  {
   "cell_type": "code",
   "execution_count": null,
   "metadata": {},
   "outputs": [],
   "source": [
    "data_list = [anndata_BLA, anndata_BLC]\n",
    "scanorama.integrate_scanpy(data_list)\n",
    "# integrated_data = anndata.AnnData(X=integrated_data)\n"
   ]
  },
  {
   "cell_type": "code",
   "execution_count": null,
   "metadata": {},
   "outputs": [],
   "source": [
    "print('BL_A:\\n', data_list[0],'\\nBL_C:\\n', data_list[1])"
   ]
  },
  {
   "cell_type": "code",
   "execution_count": null,
   "metadata": {},
   "outputs": [],
   "source": [
    "integrated_adata = anndata.AnnData(X=anndata.concat(data_list))"
   ]
  },
  {
   "cell_type": "code",
   "execution_count": null,
   "metadata": {},
   "outputs": [],
   "source": [
    "integrated_adata"
   ]
  },
  {
   "cell_type": "code",
   "execution_count": null,
   "metadata": {},
   "outputs": [],
   "source": [
    "sc.pp.neighbors(integrated_adata)\n",
    "sc.tl.umap(integrated_adata)"
   ]
  },
  {
   "cell_type": "code",
   "execution_count": null,
   "metadata": {},
   "outputs": [],
   "source": [
    "sc.pl.umap(integrated_adata, color='batch', \n",
    "           legend_loc='on data', palette='tab20b',\n",
    "             color_map='magma', title='BL A & BL C integrated Scanorama UMAP',\n",
    "             return_fig=False, show=False)"
   ]
  },
  {
   "cell_type": "code",
   "execution_count": null,
   "metadata": {},
   "outputs": [],
   "source": [
    "integrated_adata"
   ]
  },
  {
   "attachments": {},
   "cell_type": "markdown",
   "metadata": {},
   "source": [
    "--------------------------------------------------------------------------------------------------------------------"
   ]
  },
  {
   "attachments": {},
   "cell_type": "markdown",
   "metadata": {},
   "source": [
    "Try out harmony wrapper for scanpy"
   ]
  },
  {
   "cell_type": "code",
   "execution_count": null,
   "metadata": {},
   "outputs": [],
   "source": [
    "anndata_BLN = sc.read_h5ad(\"C:/Users/julia/Project/ipynb_output/BL_N/AnnData_storage/BL_N.h5ad\")\n",
    "anndata_BLC = sc.read_h5ad(\"C:/Users/julia/Project/ipynb_output/BL_C/AnnData_storage/BL_C.h5ad\")\n",
    "anndata_BLA = sc.read_h5ad(\"C:/Users/julia/Project/ipynb_output/BL_A/AnnData_storage/BL_A.h5ad\")"
   ]
  },
  {
   "cell_type": "code",
   "execution_count": null,
   "metadata": {},
   "outputs": [],
   "source": [
    "anndata_BLA.obs['batch'] = 'BL_A'\n",
    "anndata_BLC.obs['batch'] = 'BL_C'\n",
    "anndata_BLN.obs['batch'] = 'BL_N'"
   ]
  },
  {
   "attachments": {},
   "cell_type": "markdown",
   "metadata": {},
   "source": [
    "I think the results are all the same because of this line --> look into this more w/ Maurits"
   ]
  },
  {
   "cell_type": "code",
   "execution_count": null,
   "metadata": {},
   "outputs": [],
   "source": [
    "combi = anndata.concat([anndata_BLC, anndata_BLN])"
   ]
  },
  {
   "cell_type": "code",
   "execution_count": null,
   "metadata": {},
   "outputs": [],
   "source": [
    "sc.external.pp.harmony_integrate(combi, key='batch', basis='X_pca', adjusted_basis='X_pca_harmony')"
   ]
  },
  {
   "cell_type": "code",
   "execution_count": null,
   "metadata": {},
   "outputs": [],
   "source": [
    "adjusted_pcs = combi.obsm['X_pca_harmony']\n",
    "combi.obsm['X_pca']=adjusted_pcs"
   ]
  },
  {
   "cell_type": "code",
   "execution_count": null,
   "metadata": {},
   "outputs": [],
   "source": [
    "sc.pp.neighbors(combi)\n",
    "sc.tl.leiden(combi)\n",
    "sc.tl.umap(combi)"
   ]
  },
  {
   "cell_type": "code",
   "execution_count": null,
   "metadata": {},
   "outputs": [],
   "source": [
    "sc.pl.umap(combi, color='batch', palette='Set1',\n",
    "             color_map='magma', title='BL N & BL C integrated harmony UMAP')"
   ]
  },
  {
   "attachments": {},
   "cell_type": "markdown",
   "metadata": {},
   "source": [
    "-------------------------------------------------------------------------------------------------------------------"
   ]
  },
  {
   "attachments": {},
   "cell_type": "markdown",
   "metadata": {},
   "source": [
    "Trying out bbknn() with the help of the vignettes"
   ]
  },
  {
   "cell_type": "code",
   "execution_count": null,
   "metadata": {},
   "outputs": [],
   "source": [
    "import bbknn"
   ]
  },
  {
   "cell_type": "code",
   "execution_count": null,
   "metadata": {},
   "outputs": [],
   "source": [
    "anndata_BLN = sc.read_h5ad(\"C:/Users/julia/Project/ipynb_output/BL_N/AnnData_storage/BL_N.h5ad\")\n",
    "anndata_BLC = sc.read_h5ad(\"C:/Users/julia/Project/ipynb_output/BL_C/AnnData_storage/BL_C.h5ad\")\n",
    "anndata_BLA = sc.read_h5ad(\"C:/Users/julia/Project/ipynb_output/BL_A/AnnData_storage/BL_A.h5ad\")\n",
    "anndata_BLA.obs['batch'] = 'BL_A'\n",
    "anndata_BLC.obs['batch'] = 'BL_C'\n",
    "anndata_BLN.obs['batch'] = 'BL_N'"
   ]
  },
  {
   "cell_type": "code",
   "execution_count": null,
   "metadata": {},
   "outputs": [],
   "source": [
    "holder=[]\n",
    "holder.append(anndata_BLC)\n",
    "holder.append(anndata_BLN)"
   ]
  },
  {
   "attachments": {},
   "cell_type": "markdown",
   "metadata": {},
   "source": [
    "use concatenate according to tutorial (not concat()). This find more genes.\n",
    "but concat() maintains sample names, in the cluster this looks nicer."
   ]
  },
  {
   "cell_type": "code",
   "execution_count": null,
   "metadata": {},
   "outputs": [],
   "source": [
    "adata = anndata.concat(holder)\n",
    "#adata = holder[0].concatenate(holder[1:], join='outer')"
   ]
  },
  {
   "attachments": {},
   "cell_type": "markdown",
   "metadata": {},
   "source": [
    "concatinate() (older function) adds nr 0 - 1 instead of batch name. but 0 is BL_C and 1 is BL_N/BL_A.\n",
    "concat() simply removes all variation and merges everything --> also looks for common hvg, takes way less hvg downstream than concatinate() does.\n",
    "(6000 vs 1700)"
   ]
  },
  {
   "cell_type": "code",
   "execution_count": null,
   "metadata": {},
   "outputs": [],
   "source": [
    "adata"
   ]
  },
  {
   "cell_type": "code",
   "execution_count": null,
   "metadata": {},
   "outputs": [],
   "source": [
    "bbknn.bbknn(adata)"
   ]
  },
  {
   "cell_type": "code",
   "execution_count": null,
   "metadata": {},
   "outputs": [],
   "source": [
    "adata"
   ]
  },
  {
   "cell_type": "code",
   "execution_count": null,
   "metadata": {},
   "outputs": [],
   "source": [
    "sc.tl.umap(adata, neighbors_key='neighbors')\n",
    "sc.tl.leiden(adata, resolution=1)"
   ]
  },
  {
   "cell_type": "code",
   "execution_count": null,
   "metadata": {},
   "outputs": [],
   "source": [
    "adata.obs['batch']"
   ]
  },
  {
   "cell_type": "code",
   "execution_count": null,
   "metadata": {},
   "outputs": [],
   "source": [
    "adata"
   ]
  },
  {
   "cell_type": "code",
   "execution_count": null,
   "metadata": {},
   "outputs": [],
   "source": [
    "sc.pl.umap(adata, color=['leiden', 'batch'], palette='tab20b', title='First trial BL_C & BL_N bbknn package')"
   ]
  },
  {
   "attachments": {},
   "cell_type": "markdown",
   "metadata": {},
   "source": [
    "Now lets try to add ridge regression according to the github vignette\n",
    "- 1st error was numpy error --> made issue in git now solved\n",
    "- 2nd error is nan error after running bbknn --> this issue only arises when using concatinate() (OLD function) not with concat() so go with concat for now :)\n",
    "NOTE: we don't necessary need this step, I just saw it in other vigenttes and wanted to try it"
   ]
  },
  {
   "cell_type": "code",
   "execution_count": null,
   "metadata": {},
   "outputs": [],
   "source": [
    "bbknn.ridge_regression(adata, batch_key=['batch'], confounder_key='leiden')"
   ]
  },
  {
   "attachments": {},
   "cell_type": "markdown",
   "metadata": {},
   "source": [
    "idk what this x_explained layer is but it appears after running the ridge regression.\n",
    "According to the vignette you should re-run pca, bbknn and also the umap"
   ]
  },
  {
   "cell_type": "code",
   "execution_count": null,
   "metadata": {},
   "outputs": [],
   "source": [
    "adata.layers['X_explained']"
   ]
  },
  {
   "cell_type": "code",
   "execution_count": null,
   "metadata": {},
   "outputs": [],
   "source": [
    "sc.pp.pca(adata)\n",
    "bbknn.bbknn(adata)\n",
    "sc.tl.umap(adata)"
   ]
  },
  {
   "cell_type": "code",
   "execution_count": null,
   "metadata": {},
   "outputs": [],
   "source": [
    "sc.pl.umap(adata, color=['batch', 'leiden'], palette='Set1', title='ridge regression in BL_C and BL_N')"
   ]
  },
  {
   "cell_type": "code",
   "execution_count": null,
   "metadata": {},
   "outputs": [],
   "source": [
    "adata"
   ]
  },
  {
   "attachments": {},
   "cell_type": "markdown",
   "metadata": {},
   "source": [
    "let's try finding markergenes"
   ]
  },
  {
   "cell_type": "code",
   "execution_count": null,
   "metadata": {},
   "outputs": [],
   "source": [
    "neurons = ['MAP2', 'DCX', 'NEUROG2', 'RBFOX3', 'SLC17A7']\n",
    "astrocytes = ['VIM', 'S100B', 'SOX9', 'FABP7', 'SLC1A3']"
   ]
  },
  {
   "cell_type": "code",
   "execution_count": null,
   "metadata": {},
   "outputs": [],
   "source": [
    "adata_DE =  adata.raw.to_adata()\n",
    "adata_DE"
   ]
  },
  {
   "cell_type": "code",
   "execution_count": null,
   "metadata": {},
   "outputs": [],
   "source": [
    "sc.tl.rank_genes_groups(adata_DE, 'leiden', method='wilcoxon', corr_method='bonferroni', key='wilcoxon', pts=True, )"
   ]
  },
  {
   "cell_type": "code",
   "execution_count": null,
   "metadata": {},
   "outputs": [],
   "source": [
    "sc.tl.filter_rank_genes_groups(adata_DE, groupby='leiden', min_in_group_fraction=0.1, min_fold_change=1)"
   ]
  },
  {
   "cell_type": "code",
   "execution_count": null,
   "metadata": {},
   "outputs": [],
   "source": [
    "with plt.rc_context({'figure.figsize': (3, 3)}):\n",
    "    sc.pl.umap(adata_DE, color=astrocytes, s=50, frameon=False, ncols=4, vmax='p99', cmap='Reds', palette='Reds')"
   ]
  },
  {
   "cell_type": "code",
   "execution_count": null,
   "metadata": {},
   "outputs": [],
   "source": []
  },
  {
   "attachments": {},
   "cell_type": "markdown",
   "metadata": {},
   "source": [
    "---------------------------------------------------------------------------------------------------------------------"
   ]
  },
  {
   "attachments": {},
   "cell_type": "markdown",
   "metadata": {},
   "source": [
    "### HARMONYPY ###\n",
    "github: https://github.com/slowkow/harmonypy\n",
    "code used from this issue: https://github.com/slowkow/harmonypy/issues/5\n"
   ]
  },
  {
   "cell_type": "code",
   "execution_count": null,
   "metadata": {},
   "outputs": [],
   "source": [
    "import harmonypy as harm"
   ]
  },
  {
   "attachments": {},
   "cell_type": "markdown",
   "metadata": {},
   "source": [
    "load in anndata objects as normal and add 'batch' key"
   ]
  },
  {
   "cell_type": "code",
   "execution_count": null,
   "metadata": {},
   "outputs": [],
   "source": [
    "anndata_BLN = sc.read_h5ad(\"C:/Users/julia/Project/ipynb_output/BL_N/AnnData_storage/BL_N.h5ad\")\n",
    "anndata_BLC = sc.read_h5ad(\"C:/Users/julia/Project/ipynb_output/BL_C/AnnData_storage/BL_C.h5ad\")\n",
    "anndata_BLA = sc.read_h5ad(\"C:/Users/julia/Project/ipynb_output/BL_A/AnnData_storage/BL_A.h5ad\")\n",
    "anndata_BLA.obs['batch'] = 'BL_A'\n",
    "anndata_BLC.obs['batch'] = 'BL_C'\n",
    "anndata_BLN.obs['batch'] = 'BL_N'"
   ]
  },
  {
   "attachments": {},
   "cell_type": "markdown",
   "metadata": {},
   "source": [
    "unfortunetaly their adata_all is once again a big anndata object with many batches, instead of multiple anndata's from different samples. I wonder if this tutorial will prove insightful"
   ]
  },
  {
   "cell_type": "code",
   "execution_count": null,
   "metadata": {},
   "outputs": [],
   "source": [
    "holder=[]\n",
    "holder.append(anndata_BLC)\n",
    "holder.append(anndata_BLA)"
   ]
  },
  {
   "cell_type": "code",
   "execution_count": null,
   "metadata": {},
   "outputs": [],
   "source": [
    "adata = anndata.concat(holder)\n",
    "adata.obs_names_make_unique()"
   ]
  },
  {
   "cell_type": "code",
   "execution_count": null,
   "metadata": {},
   "outputs": [],
   "source": [
    "data_mat = adata.obsm['X_pca']\n",
    "meta_data = adata.obs\n",
    "vars_use = ['batch']\n",
    "ho = harm.run_harmony(data_mat, meta_data, vars_use)"
   ]
  },
  {
   "cell_type": "code",
   "execution_count": null,
   "metadata": {},
   "outputs": [],
   "source": [
    "adjusted_pcs = pd.DataFrame(ho.Z_corr).T\n",
    "adata.obsm['X_pca']=adjusted_pcs.values"
   ]
  },
  {
   "cell_type": "code",
   "execution_count": null,
   "metadata": {},
   "outputs": [],
   "source": [
    "sc.pp.neighbors(adata)\n",
    "sc.tl.leiden(adata)\n",
    "sc.tl.umap(adata)\n"
   ]
  },
  {
   "cell_type": "code",
   "execution_count": null,
   "metadata": {},
   "outputs": [],
   "source": [
    "sc.pl.umap(adata, color=['batch', 'leiden'], palette='tab20',\n",
    "             color_map='magma', title='BL_C_BL_A_Harmonypy')"
   ]
  },
  {
   "attachments": {},
   "cell_type": "markdown",
   "metadata": {},
   "source": [
    "-----------------------------------------------------------------------------------------------------"
   ]
  },
  {
   "attachments": {},
   "cell_type": "markdown",
   "metadata": {},
   "source": [
    "Try combining all for fun"
   ]
  },
  {
   "cell_type": "code",
   "execution_count": null,
   "metadata": {},
   "outputs": [],
   "source": [
    "holder=[]\n",
    "holder.append(anndata_BLC)\n",
    "holder.append(anndata_BLN)\n",
    "holder.append(anndata_BLA)"
   ]
  },
  {
   "cell_type": "code",
   "execution_count": null,
   "metadata": {},
   "outputs": [],
   "source": [
    "adata_all = anndata.concat(holder)"
   ]
  },
  {
   "cell_type": "code",
   "execution_count": null,
   "metadata": {},
   "outputs": [],
   "source": [
    "sc.external.pp.bbknn(adata_all, batch_key='batch')"
   ]
  },
  {
   "cell_type": "code",
   "execution_count": null,
   "metadata": {},
   "outputs": [],
   "source": [
    "sc.tl.umap(adata_all)\n",
    "sc.tl.leiden(adata_all, resolution=1)"
   ]
  },
  {
   "cell_type": "code",
   "execution_count": null,
   "metadata": {},
   "outputs": [],
   "source": [
    "adata_all"
   ]
  },
  {
   "cell_type": "code",
   "execution_count": null,
   "metadata": {},
   "outputs": [],
   "source": [
    "sc.pl.umap(adata_all, color=['leiden', 'batch'], palette='tab20b', title='2nd trial all combined')"
   ]
  },
  {
   "cell_type": "markdown",
   "metadata": {},
   "source": []
  },
  {
   "attachments": {},
   "cell_type": "markdown",
   "metadata": {},
   "source": [
    "Using scanorama functions (not scanpy)"
   ]
  },
  {
   "cell_type": "code",
   "execution_count": null,
   "metadata": {},
   "outputs": [],
   "source": [
    "# list = [anndata_BLN.raw.X, anndata_BLC.raw.X]\n",
    "# genes_list = [anndata_BLN.raw.var_names, anndata_BLC.raw.var_names]"
   ]
  },
  {
   "attachments": {},
   "cell_type": "markdown",
   "metadata": {},
   "source": [
    "looks like concat, but does not return the same object. This seems to be going good. still finds 1762 genes in common (on hvg genes) and 18682 in common (on all raw genes)\n",
    "this function gets called in correct"
   ]
  },
  {
   "cell_type": "code",
   "execution_count": null,
   "metadata": {},
   "outputs": [],
   "source": [
    "# a, b = scanorama.merge_datasets(list, genes_list)"
   ]
  },
  {
   "attachments": {},
   "cell_type": "markdown",
   "metadata": {},
   "source": [
    "correct does a batch correction and integration at the same time?"
   ]
  },
  {
   "cell_type": "code",
   "execution_count": null,
   "metadata": {},
   "outputs": [],
   "source": [
    "# datasets, genes = scanorama.correct(list, genes_list)"
   ]
  },
  {
   "cell_type": "code",
   "execution_count": null,
   "metadata": {},
   "outputs": [],
   "source": [
    "# datasets"
   ]
  },
  {
   "cell_type": "code",
   "execution_count": null,
   "metadata": {},
   "outputs": [],
   "source": [
    "# genes"
   ]
  },
  {
   "cell_type": "code",
   "execution_count": null,
   "metadata": {},
   "outputs": [],
   "source": []
  },
  {
   "cell_type": "code",
   "execution_count": null,
   "metadata": {},
   "outputs": [],
   "source": []
  },
  {
   "cell_type": "code",
   "execution_count": null,
   "metadata": {},
   "outputs": [],
   "source": []
  }
 ],
 "metadata": {
  "kernelspec": {
   "display_name": "project-VjJne3mB",
   "language": "python",
   "name": "python3"
  },
  "language_info": {
   "codemirror_mode": {
    "name": "ipython",
    "version": 3
   },
   "file_extension": ".py",
   "mimetype": "text/x-python",
   "name": "python",
   "nbconvert_exporter": "python",
   "pygments_lexer": "ipython3",
   "version": "3.10.9"
  },
  "orig_nbformat": 4
 },
 "nbformat": 4,
 "nbformat_minor": 2
}
