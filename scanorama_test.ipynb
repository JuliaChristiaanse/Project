{
 "cells": [
  {
   "cell_type": "code",
   "execution_count": null,
   "metadata": {},
   "outputs": [],
   "source": [
    "import scanpy as sc\n",
    "import scanorama\n",
    "import anndata\n",
    "import os\n",
    "import pandas as pd\n",
    "from matplotlib import pyplot as plt\n",
    "import numpy as np"
   ]
  },
  {
   "cell_type": "code",
   "execution_count": null,
   "metadata": {},
   "outputs": [],
   "source": [
    "sc.settings.verbosity = 3             # verbosity: errors (0), warnings (1), info (2), hints (3)\n",
    "sc.logging.print_header()\n",
    "sc.settings.set_figure_params(dpi=120, dpi_save=150, facecolor='white', color_map='tab20b')"
   ]
  },
  {
   "cell_type": "code",
   "execution_count": null,
   "metadata": {},
   "outputs": [],
   "source": [
    "OUTPUT_PATH = \"C:/Users/julia/Project/scanorama_output\""
   ]
  },
  {
   "attachments": {},
   "cell_type": "markdown",
   "metadata": {},
   "source": [
    "### SIMPLE integration process using sc.external.pp.scanorama_integrate two integrate the two samples ###"
   ]
  },
  {
   "attachments": {},
   "cell_type": "markdown",
   "metadata": {},
   "source": [
    "load in anndata objects, filtering, pp, hvg, regressing & scaling have been performed. They were frozen right after PCA performance.\n",
    "Results stored in h5ad file, now loaded in:"
   ]
  },
  {
   "cell_type": "code",
   "execution_count": null,
   "metadata": {},
   "outputs": [],
   "source": [
    "anndata_BLN = sc.read_h5ad(\"C:/Users/julia/Project/ipynb_output/BL_N/AnnData_storage/BL_N.h5ad\")\n",
    "anndata_BLC = sc.read_h5ad(\"C:/Users/julia/Project/ipynb_output/BL_C/AnnData_storage/BL_C.h5ad\")\n",
    "anndata_BLA = sc.read_h5ad(\"C:/Users/julia/Project/ipynb_output/BL_A/AnnData_storage/BL_A.h5ad\")"
   ]
  },
  {
   "cell_type": "code",
   "execution_count": null,
   "metadata": {},
   "outputs": [],
   "source": [
    "print('BL_N: ', anndata_BLN.shape)\n",
    "print('BL_C: ', anndata_BLC.shape)\n",
    "print('BL_A: ', anndata_BLA.shape)"
   ]
  },
  {
   "attachments": {},
   "cell_type": "markdown",
   "metadata": {},
   "source": [
    "make the obs 'batch' that is a dramatic overrepresentation of the sample name, because otherwise scanorama does not work :("
   ]
  },
  {
   "cell_type": "code",
   "execution_count": null,
   "metadata": {},
   "outputs": [],
   "source": [
    "anndata_BLA.obs['batch'] = 'BL_A'\n",
    "anndata_BLC.obs['batch'] = 'BL_C'\n",
    "anndata_BLN.obs['batch'] = 'BL_N'"
   ]
  },
  {
   "cell_type": "code",
   "execution_count": null,
   "metadata": {},
   "outputs": [],
   "source": [
    "print('BL_N\\n', anndata_BLN, '\\nBL_C\\n', anndata_BLC, '\\nBL_A\\n', anndata_BLA)"
   ]
  },
  {
   "attachments": {},
   "cell_type": "markdown",
   "metadata": {},
   "source": [
    "sc.external.pp.scanorama() does not directly accept a list of AnnData objects, you need to concatinate the objects firts, then yeet them in the function, and seperate them by key (batch in this case)"
   ]
  },
  {
   "cell_type": "code",
   "execution_count": null,
   "metadata": {},
   "outputs": [],
   "source": [
    "combi = anndata.concat([anndata_BLC.raw.to_adata(), anndata_BLN.raw.to_adata()], index_unique=\"_\")"
   ]
  },
  {
   "cell_type": "code",
   "execution_count": null,
   "metadata": {},
   "outputs": [],
   "source": [
    "combi.obs"
   ]
  },
  {
   "attachments": {},
   "cell_type": "markdown",
   "metadata": {},
   "source": [
    "The function finds 1762 similar genes"
   ]
  },
  {
   "cell_type": "code",
   "execution_count": null,
   "metadata": {},
   "outputs": [],
   "source": [
    "combi"
   ]
  },
  {
   "attachments": {},
   "cell_type": "markdown",
   "metadata": {},
   "source": [
    "Run Scanorma, the key 'batch' simply has the sample name stored."
   ]
  },
  {
   "cell_type": "code",
   "execution_count": null,
   "metadata": {},
   "outputs": [],
   "source": [
    "# default settings:\n",
    "# sc.external.pp.scanorama_integrate(combi, key='batch', basis='X_pca', adjusted_basis='X_scanorama', knn=20, sigma=15, approx=True, alpha=0.1, batch_size=5000)\n",
    "sc.external.pp.scanorama_integrate(combi, key='batch')"
   ]
  },
  {
   "cell_type": "code",
   "execution_count": null,
   "metadata": {},
   "outputs": [],
   "source": [
    "combi"
   ]
  },
  {
   "cell_type": "code",
   "execution_count": null,
   "metadata": {},
   "outputs": [],
   "source": [
    "integrated_expression = combi.X\n",
    "integrated_expression"
   ]
  },
  {
   "cell_type": "code",
   "execution_count": null,
   "metadata": {},
   "outputs": [],
   "source": [
    "sc.pp.neighbors(combi)\n",
    "sc.tl.umap(combi)"
   ]
  },
  {
   "cell_type": "code",
   "execution_count": null,
   "metadata": {},
   "outputs": [],
   "source": [
    "sc.pl.umap(combi, color='batch', \n",
    "           legend_loc='on data', palette='Set1',\n",
    "             color_map='magma', title='BL N & BL C integrated UMAP',\n",
    "             return_fig=False, show=False)"
   ]
  },
  {
   "attachments": {},
   "cell_type": "markdown",
   "metadata": {},
   "source": [
    "--------------------------------------------------------------------------------------------------------------------"
   ]
  },
  {
   "attachments": {},
   "cell_type": "markdown",
   "metadata": {},
   "source": [
    "Use Scanorama directly"
   ]
  },
  {
   "cell_type": "code",
   "execution_count": null,
   "metadata": {},
   "outputs": [],
   "source": [
    "anndata_BLN = sc.read_h5ad(\"C:/Users/julia/Project/ipynb_output/BL_N/AnnData_storage/BL_N.h5ad\")\n",
    "anndata_BLC = sc.read_h5ad(\"C:/Users/julia/Project/ipynb_output/BL_C/AnnData_storage/BL_C.h5ad\")\n",
    "anndata_BLA = sc.read_h5ad(\"C:/Users/julia/Project/ipynb_output/BL_A/AnnData_storage/BL_A.h5ad\")"
   ]
  },
  {
   "cell_type": "code",
   "execution_count": null,
   "metadata": {},
   "outputs": [],
   "source": [
    "anndata_BLA.obs['batch'] = 'BL_A'\n",
    "anndata_BLC.obs['batch'] = 'BL_C'\n",
    "anndata_BLN.obs['batch'] = 'BL_N'"
   ]
  },
  {
   "attachments": {},
   "cell_type": "markdown",
   "metadata": {},
   "source": [
    "Note: HVG found that both sets have in common are the same as the concatinated dataset I made in the code above"
   ]
  },
  {
   "cell_type": "code",
   "execution_count": null,
   "metadata": {},
   "outputs": [],
   "source": [
    "data_list = [anndata_BLA.raw.to_adata(), anndata_BLC.raw.to_adata()]\n",
    "integrated_data = scanorama.integrate_scanpy(data_list)\n",
    "# integrated_data = anndata.AnnData(X=integrated_data)\n"
   ]
  },
  {
   "cell_type": "code",
   "execution_count": null,
   "metadata": {},
   "outputs": [],
   "source": [
    "print('BL_A:\\n', data_list[0],'\\nBL_C:\\n', data_list[1])"
   ]
  },
  {
   "cell_type": "code",
   "execution_count": null,
   "metadata": {},
   "outputs": [],
   "source": [
    "integrated_adata = anndata.AnnData(X=anndata.concat(data_list))"
   ]
  },
  {
   "cell_type": "code",
   "execution_count": null,
   "metadata": {},
   "outputs": [],
   "source": [
    "integrated_adata"
   ]
  },
  {
   "cell_type": "code",
   "execution_count": null,
   "metadata": {},
   "outputs": [],
   "source": [
    "sc.pp.neighbors(integrated_adata)\n",
    "sc.tl.umap(integrated_adata)"
   ]
  },
  {
   "cell_type": "code",
   "execution_count": null,
   "metadata": {},
   "outputs": [],
   "source": [
    "sc.pl.umap(integrated_adata, color='batch', \n",
    "           legend_loc='on data', palette='tab20b',\n",
    "             color_map='magma', title='BL A & BL C integrated Scanorama UMAP',\n",
    "             return_fig=False, show=False)"
   ]
  },
  {
   "cell_type": "code",
   "execution_count": null,
   "metadata": {},
   "outputs": [],
   "source": [
    "integrated_adata"
   ]
  },
  {
   "attachments": {},
   "cell_type": "markdown",
   "metadata": {},
   "source": [
    "--------------------------------------------------------------------------------------------------------------------"
   ]
  },
  {
   "attachments": {},
   "cell_type": "markdown",
   "metadata": {},
   "source": [
    "Try out harmony"
   ]
  },
  {
   "cell_type": "code",
   "execution_count": null,
   "metadata": {},
   "outputs": [],
   "source": [
    "anndata_BLN = sc.read_h5ad(\"C:/Users/julia/Project/ipynb_output/BL_N/AnnData_storage/BL_N.h5ad\")\n",
    "anndata_BLC = sc.read_h5ad(\"C:/Users/julia/Project/ipynb_output/BL_C/AnnData_storage/BL_C.h5ad\")\n",
    "anndata_BLA = sc.read_h5ad(\"C:/Users/julia/Project/ipynb_output/BL_A/AnnData_storage/BL_A.h5ad\")"
   ]
  },
  {
   "cell_type": "code",
   "execution_count": null,
   "metadata": {},
   "outputs": [],
   "source": [
    "anndata_BLA.obs['batch'] = 'BL_A'\n",
    "anndata_BLC.obs['batch'] = 'BL_C'\n",
    "anndata_BLN.obs['batch'] = 'BL_N'"
   ]
  },
  {
   "attachments": {},
   "cell_type": "markdown",
   "metadata": {},
   "source": [
    "I think the results are all the same because of this line --> look into this more w/ Maurits"
   ]
  },
  {
   "cell_type": "code",
   "execution_count": null,
   "metadata": {},
   "outputs": [],
   "source": [
    "combi = anndata.concat([anndata_BLA, anndata_BLC])"
   ]
  },
  {
   "cell_type": "code",
   "execution_count": null,
   "metadata": {},
   "outputs": [],
   "source": [
    "sc.external.pp.harmony_integrate(combi, key='batch', basis='X_pca', adjusted_basis='X_pca_harmony')"
   ]
  },
  {
   "cell_type": "code",
   "execution_count": null,
   "metadata": {},
   "outputs": [],
   "source": [
    "sc.pp.neighbors(combi)\n",
    "sc.tl.umap(combi)"
   ]
  },
  {
   "cell_type": "code",
   "execution_count": null,
   "metadata": {},
   "outputs": [],
   "source": [
    "sc.pl.umap(combi, color='batch', \n",
    "           legend_loc='on data', palette='tab20b',\n",
    "             color_map='magma', title='BL A & BL C integrated harmony UMAP')"
   ]
  },
  {
   "cell_type": "code",
   "execution_count": null,
   "metadata": {},
   "outputs": [],
   "source": []
  },
  {
   "cell_type": "code",
   "execution_count": null,
   "metadata": {},
   "outputs": [],
   "source": []
  },
  {
   "cell_type": "code",
   "execution_count": null,
   "metadata": {},
   "outputs": [],
   "source": []
  },
  {
   "cell_type": "code",
   "execution_count": null,
   "metadata": {},
   "outputs": [],
   "source": []
  },
  {
   "attachments": {},
   "cell_type": "markdown",
   "metadata": {},
   "source": [
    "Using scanorama functions (not scanpy)"
   ]
  },
  {
   "cell_type": "code",
   "execution_count": null,
   "metadata": {},
   "outputs": [],
   "source": [
    "# list = [anndata_BLN.raw.X, anndata_BLC.raw.X]\n",
    "# genes_list = [anndata_BLN.raw.var_names, anndata_BLC.raw.var_names]"
   ]
  },
  {
   "attachments": {},
   "cell_type": "markdown",
   "metadata": {},
   "source": [
    "looks like concat, but does not return the same object. This seems to be going good. still finds 1762 genes in common (on hvg genes) and 18682 in common (on all raw genes)\n",
    "this function gets called in correct"
   ]
  },
  {
   "cell_type": "code",
   "execution_count": null,
   "metadata": {},
   "outputs": [],
   "source": [
    "# a, b = scanorama.merge_datasets(list, genes_list)"
   ]
  },
  {
   "attachments": {},
   "cell_type": "markdown",
   "metadata": {},
   "source": [
    "correct does a batch correction and integration at the same time?"
   ]
  },
  {
   "cell_type": "code",
   "execution_count": null,
   "metadata": {},
   "outputs": [],
   "source": [
    "# datasets, genes = scanorama.correct(list, genes_list)"
   ]
  },
  {
   "cell_type": "code",
   "execution_count": null,
   "metadata": {},
   "outputs": [],
   "source": [
    "# datasets"
   ]
  },
  {
   "cell_type": "code",
   "execution_count": null,
   "metadata": {},
   "outputs": [],
   "source": [
    "# genes"
   ]
  },
  {
   "cell_type": "code",
   "execution_count": null,
   "metadata": {},
   "outputs": [],
   "source": []
  },
  {
   "cell_type": "code",
   "execution_count": null,
   "metadata": {},
   "outputs": [],
   "source": []
  },
  {
   "cell_type": "code",
   "execution_count": null,
   "metadata": {},
   "outputs": [],
   "source": []
  }
 ],
 "metadata": {
  "kernelspec": {
   "display_name": "project-VjJne3mB",
   "language": "python",
   "name": "python3"
  },
  "language_info": {
   "codemirror_mode": {
    "name": "ipython",
    "version": 3
   },
   "file_extension": ".py",
   "mimetype": "text/x-python",
   "name": "python",
   "nbconvert_exporter": "python",
   "pygments_lexer": "ipython3",
   "version": "3.10.9"
  },
  "orig_nbformat": 4
 },
 "nbformat": 4,
 "nbformat_minor": 2
}
